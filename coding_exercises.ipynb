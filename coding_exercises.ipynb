{
 "cells": [
  {
   "cell_type": "code",
   "execution_count": 3,
   "metadata": {},
   "outputs": [
    {
     "name": "stdout",
     "output_type": "stream",
     "text": [
      "Hello, World!\n"
     ]
    }
   ],
   "source": [
    "print(\"Hello, World!\")"
   ]
  },
  {
   "cell_type": "markdown",
   "metadata": {},
   "source": [
    "# Printing\n",
    "- Could you suggest a python code for ‘Hello, world!’ to demonstrate the concept of printing to a complete beginner in programming? Please explain the code step-by-step highlighting any key aspects.\n",
    "1. print\n",
    "2. (\"Hello, world!\")\n",
    "3. Quotation Marks\n",
    "4. Parentheses"
   ]
  },
  {
   "cell_type": "code",
   "execution_count": 4,
   "metadata": {},
   "outputs": [
    {
     "name": "stdout",
     "output_type": "stream",
     "text": [
      "Hello, world!\n"
     ]
    }
   ],
   "source": [
    "print(\"Hello, world!\")"
   ]
  },
  {
   "cell_type": "markdown",
   "metadata": {},
   "source": [
    "# Run Some Prompts in Microsoft Copilot\n",
    "- Initial Prompt： Could you suggest a modification of the Python code for “Hello, world!” to demonstrate the concept of variables to a complete beginner in programming? Please explain the code step-by-step highlighting any key aspects.\n",
    "- Suggested prompts：\n",
    "1. Can you show more examples of variables?\n",
    "2. What are data types in Python?\n",
    "3. How do I run this code?\n",
    "- My prompts"
   ]
  }
 ],
 "metadata": {
  "kernelspec": {
   "display_name": "Python 3",
   "language": "python",
   "name": "python3"
  },
  "language_info": {
   "codemirror_mode": {
    "name": "ipython",
    "version": 3
   },
   "file_extension": ".py",
   "mimetype": "text/x-python",
   "name": "python",
   "nbconvert_exporter": "python",
   "pygments_lexer": "ipython3",
   "version": "3.12.1"
  }
 },
 "nbformat": 4,
 "nbformat_minor": 2
}
