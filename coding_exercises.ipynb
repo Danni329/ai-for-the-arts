{
 "cells": [
  {
   "cell_type": "code",
   "execution_count": 3,
   "metadata": {},
   "outputs": [
    {
     "name": "stdout",
     "output_type": "stream",
     "text": [
      "Hello, World!\n"
     ]
    }
   ],
   "source": [
    "print(\"Hello, World!\")"
   ]
  },
  {
   "cell_type": "markdown",
   "metadata": {},
   "source": [
    "# Printing\n",
    "- Could you suggest a python code for ‘Hello, world!’ to demonstrate the concept of printing to a complete beginner in programming? Please explain the code step-by-step highlighting any key aspects.\n",
    "1. print\n",
    "2. (\"Hello, world!\")\n",
    "3. Quotation Marks\n",
    "4. Parentheses"
   ]
  },
  {
   "cell_type": "code",
   "execution_count": 4,
   "metadata": {},
   "outputs": [
    {
     "name": "stdout",
     "output_type": "stream",
     "text": [
      "Hello, world!\n"
     ]
    }
   ],
   "source": [
    "print(\"Hello, world!\")"
   ]
  },
  {
   "cell_type": "markdown",
   "metadata": {},
   "source": [
    "## 1. Variables\n",
    "### Initial Prompt to Copilot： \n",
    "Could you suggest a modification of the Python code for “Hello, world!” to demonstrate the concept of variables to a complete beginner in programming? Please explain the code step-by-step highlighting any key aspects.\n",
    "###  Copilot's Response (Summary):\n",
    "- Variables: Variables are fundamental in programming. They allow you to store and manipulate data. You can change the value of a variable at any time in your program.\n",
    "- Strings: In this example, \"Hello, world!\" is a string, which is a sequence of characters enclosed in quotes.\n",
    "- Functions: The print function is a built-in function in Python that outputs data to the screen."
   ]
  },
  {
   "cell_type": "markdown",
   "metadata": {},
   "source": [
    "###  My Reflection:\n",
    "At first, I wondered why we need variables if we can just write the value directly.  \n",
    "After some exploration, I realized that variables make code easier to manage, especially when information needs to be reused, changed, or labeled for clarity.\n",
    "I asked Copilot to explain the difference between using a string directly and using a variable. It responded that variables allow us to reuse and update values more easily, which is especially useful in longer.\n",
    "### Prompts Suggested by Copilot:\n",
    "- Can you show more examples of variables?\n",
    "- What are data types in Python?\n",
    "### Key Learning Outcomes:\n",
    "- Variables are used to store information in a program.\n",
    "- I can assign strings, numbers, and more to variables using the `=` symbol."
   ]
  },
  {
   "cell_type": "code",
   "execution_count": 5,
   "metadata": {},
   "outputs": [
    {
     "name": "stdout",
     "output_type": "stream",
     "text": [
      "Hello, world!\n"
     ]
    }
   ],
   "source": [
    "\n",
    "# This is a comment. Comments are ignored by the computer and are used to explain the code.\n",
    "\n",
    "# We create a variable named 'message' and assign it the value 'Hello, world!'\n",
    "message = \"Hello, world!\"\n",
    "\n",
    "# Now we use the print function to display the value of the 'message' variable\n",
    "print(message)\n"
   ]
  },
  {
   "cell_type": "markdown",
   "metadata": {},
   "source": [
    "## 2. Functions\n",
    "\n",
    "### Initial Prompt to Copilot:\n",
    "Could you suggest a modification of the Python code for “Hello, world!” to demonstrate the concept of functions to a complete beginner in programming? Please explain the code step-by-step highlighting any key aspects.\n",
    "### Copilot's Response (Summary):\n",
    "- Functions: Functions are used to group code that performs a specific task. They make the code more organized and reusable.\n",
    "- Function Definition: The def keyword is used to define a function, followed by the function name and parentheses ().\n",
    "- Function Body: The code inside the function is indented to show that it belongs to the function.\n",
    "- Function Call: To execute the code inside a function, we call the function by writing its name followed by parentheses.\n",
    "\n",
    "### Prompts Suggested:\n",
    "- Can you explain return values in functions?\n",
    "- How do I pass parameters to a function?\n",
    "### My Own Prompt:\n",
    "I asked: \"What does `def say_hello()` actually do? I don’t understand its purpose.\"\n",
    "### Key Learning Outcomes:\n",
    "- Functions help organize code into logical, reusable blocks.\n",
    "- The `def` keyword is used to define a function.\n",
    "- A function must be called using its name + `()` to execute its code.\n",
    "- Parameters can be used to make functions more dynamic and interactive.\n",
    "- Defining a function is like preparing a tool; calling the function actually uses it."
   ]
  },
  {
   "cell_type": "code",
   "execution_count": 11,
   "metadata": {},
   "outputs": [
    {
     "name": "stdout",
     "output_type": "stream",
     "text": [
      "Hello, world!\n"
     ]
    }
   ],
   "source": [
    "\n",
    "# This is a comment explaining the code\n",
    "# We are defining a function called 'say_hello'\n",
    "def say_hello():\n",
    "    # Inside the function, we create a variable called 'greeting' and assign it the value 'Hello, world!'\n",
    "    greeting = \"Hello, world!\"\n",
    "    # We use the print function to display the value of the 'greeting' variable\n",
    "    print(greeting)\n",
    "\n",
    "# Now we call the 'say_hello' function to execute the code inside it\n",
    "say_hello()\n",
    "\n"
   ]
  },
  {
   "cell_type": "markdown",
   "metadata": {},
   "source": [
    "## 3.1 Loops\n",
    "### Initial Prompt to Copilot:\n",
    "Could you suggest a modification of the Python code for “Hello, world!” to demonstrate the concept of loops to a complete beginner in programming? Please explain the code step-by-step highlighting any key aspects.\n",
    "### Copilot's Response (Summary):\n",
    "- Loops: Loops are used to repeat a block of code multiple times. They are useful for tasks that require repetition.\n",
    "- For Loop: The for loop iterates over a sequence of values. In this case, it iterates over the numbers generated by range(5).\n",
    "- Loop Body: The code inside the loop is indented to show that it belongs to the loop. This code will be executed in each iteration of the loop.\n",
    "- Range Function: The range function generates a sequence of numbers. The loop will run once for each number in the sequence.\n",
    "### Prompts Suggested:\n",
    "- Can you explain while loops?\n",
    "- How do I use nested loops?\n",
    "### My Own Prompt:\n",
    "What error would cause this string of code to not be looped five times?\n",
    "### Key Learning Outcomes:\n",
    "When I first copied the code, it did not print the greeting five times as expected.  \n",
    "After carefully checking, I realised that the `print(greeting)` line was not indented properly. \n",
    "So although the code looked correct, Python didn't treat `print(greeting)` as part of the loop.  \n",
    "Once I fixed the indentation (by adding 4 spaces before `print(greeting)`), the loop worked perfectly."
   ]
  },
  {
   "cell_type": "code",
   "execution_count": 13,
   "metadata": {},
   "outputs": [
    {
     "name": "stdout",
     "output_type": "stream",
     "text": [
      "Hello, world!\n",
      "Hello, world!\n",
      "Hello, world!\n",
      "Hello, world!\n",
      "Hello, world!\n"
     ]
    }
   ],
   "source": [
    "# This is a comment explaining the code\n",
    "# We are using a for loop to repeat the greeting multiple times\n",
    "for i in range(5):\n",
    "    # Inside the loop, we create a variable called 'greeting' and assign it the value 'Hello, world!'\n",
    "    greeting = \"Hello, world!\"\n",
    "    # We use the print function to display the value of the 'greeting' variable\n",
    "    print(greeting)\n"
   ]
  },
  {
   "cell_type": "markdown",
   "metadata": {},
   "source": [
    "## 3.2 lists\n",
    "### Initial Prompt to Copilot:\n",
    "Could you suggest a modification of the Python code for “Hello, world!” to demonstrate the concept of lists to a complete beginner in programming? Please explain the code step- by-step highlighting any key aspects.\n",
    "### Copilot's Response (Summary):\n",
    "- Lists: Lists are a type of data structure that can hold multiple items. They are created using square brackets [] and can contain items of different types, such as strings, numbers, or even other lists.\n",
    "- List Items: Items in a list are separated by commas. In this example, the list contains five different greeting messages.\n",
    "- For Loop: The for loop is used to iterate over each item in the list. It allows us to perform actions on each item individually.\n",
    "- Iteration: Each pass through the loop is called an iteration. The loop will iterate over each item in the list until all items have been processed.\n",
    "### Prompts Suggested:\n",
    "- Can you explain list methods in Python?\n",
    "- How do I sort a list?\n",
    "\n",
    "### Key Learning Outcomes:\n",
    "I was initially confused about why the loop line didn't include `greeting =`.  \n",
    "I thought we needed to assign the value manually.\n",
    "However, I learned that in a `for` loop like `for greeting in greetings:`,  \n",
    "Python automatically assigns each item in the list to the variable `greeting` on each iteration.\n",
    "There's no need for `greeting =` — it’s built into how the `for` loop works."
   ]
  },
  {
   "cell_type": "code",
   "execution_count": 14,
   "metadata": {},
   "outputs": [
    {
     "name": "stdout",
     "output_type": "stream",
     "text": [
      "Hello, world!\n",
      "Hi there!\n",
      "Greetings!\n",
      "Salutations!\n",
      "Howdy!\n"
     ]
    }
   ],
   "source": [
    "# This is a comment explaining the code\n",
    "# We are creating a list called 'greetings' with multiple greeting messages\n",
    "greetings = [\"Hello, world!\", \"Hi there!\", \"Greetings!\", \"Salutations!\", \"Howdy!\"]\n",
    "\n",
    "# We use a for loop to iterate over each item in the 'greetings' list\n",
    "for greeting in greetings:\n",
    "    # We use the print function to display each greeting message\n",
    "    print(greeting)\n"
   ]
  },
  {
   "cell_type": "markdown",
   "metadata": {},
   "source": [
    "## 3.3 dictionaries\n",
    "Lists are useful for storing sequences of items when order matters and you just care about their position.\n",
    "Dictionaries are useful when each item has a clear label or identity, and you want to access them directly by name.\n",
    "\n"
   ]
  },
  {
   "cell_type": "code",
   "execution_count": 15,
   "metadata": {},
   "outputs": [
    {
     "name": "stdout",
     "output_type": "stream",
     "text": [
      "In English, we say: Hello, world!\n",
      "In Spanish, we say: ¡Hola, mundo!\n",
      "In French, we say: Bonjour, le monde!\n",
      "In German, we say: Hallo, Welt!\n",
      "In Chinese, we say: 你好，世界！\n"
     ]
    }
   ],
   "source": [
    "# This is a comment explaining the code\n",
    "# We are creating a dictionary called 'greetings_dict' with different greeting messages and their languages\n",
    "greetings_dict = {\n",
    "    \"English\": \"Hello, world!\",\n",
    "    \"Spanish\": \"¡Hola, mundo!\",\n",
    "    \"French\": \"Bonjour, le monde!\",\n",
    "    \"German\": \"Hallo, Welt!\",\n",
    "    \"Chinese\": \"你好，世界！\"\n",
    "}\n",
    "\n",
    "# We use a for loop to iterate over each key-value pair in the 'greetings_dict' dictionary\n",
    "for language, greeting in greetings_dict.items():\n",
    "    # We use the print function to display each greeting message along with its language\n",
    "    print(f\"In {language}, we say: {greeting}\")\n"
   ]
  },
  {
   "cell_type": "markdown",
   "metadata": {},
   "source": [
    "## 3.4 conditionals\n",
    "### I asked Copilot:\n",
    "\"What happens if two conditions are true?\"\n",
    "It explained that Python checks each condition from top to bottom, and only runs the first one that is true, skipping the rest. That clarified how control flow works."
   ]
  },
  {
   "cell_type": "code",
   "execution_count": 16,
   "metadata": {},
   "outputs": [
    {
     "name": "stdout",
     "output_type": "stream",
     "text": [
      "¡Hola, mundo!\n"
     ]
    }
   ],
   "source": [
    "# This is a comment explaining the code\n",
    "# We are creating a variable called 'language' and assigning it a value\n",
    "language = \"Spanish\"\n",
    "\n",
    "# We use if, elif, and else statements to print different greetings based on the value of 'language'\n",
    "if language == \"English\":\n",
    "    greeting = \"Hello, world!\"\n",
    "elif language == \"Spanish\":\n",
    "    greeting = \"¡Hola, mundo!\"\n",
    "elif language == \"French\":\n",
    "    greeting = \"Bonjour, le monde!\"\n",
    "elif language == \"German\":\n",
    "    greeting = \"Hallo, Welt!\"\n",
    "elif language == \"Chinese\":\n",
    "    greeting = \"你好，世界！\"\n",
    "else:\n",
    "    greeting = \"Hello, world!\"\n",
    "\n",
    "# We use the print function to display the greeting message\n",
    "print(greeting)\n"
   ]
  },
  {
   "cell_type": "markdown",
   "metadata": {},
   "source": [
    "## Summary\n",
    "### Final Reflection on Learning with Copilot\n",
    "\n",
    "I explored all programming concepts in Python and presented several core concepts. Using Copilot as a learning assistant helped me not just generate code, but also begin to understand the underlying logic and structure of Python programs. It provided instant examples that I could run and study, which was especially useful as a complete beginner. Copilot’s suggested follow-up prompts pushed me to explore deeper questions I hadn’t thought to ask on my own.\n",
    "\n",
    "Through this process, I started to see how code is structured, how logic flows, and how different elements (like functions, loops, and data structures) come together to build programs.\n",
    "\n",
    "### limitations\n",
    " Sometimes Copilot’s answers were too brief or assumed background knowledge I didn’t have. I had to ask more specific follow-ups to get the full picture. I realized that it’s not enough to copy what Copilot gives. I learned the most when I test the code, find something doesn’t work, and then figure out why.  \n"
   ]
  }
 ],
 "metadata": {
  "kernelspec": {
   "display_name": "Python 3",
   "language": "python",
   "name": "python3"
  },
  "language_info": {
   "codemirror_mode": {
    "name": "ipython",
    "version": 3
   },
   "file_extension": ".py",
   "mimetype": "text/x-python",
   "name": "python",
   "nbconvert_exporter": "python",
   "pygments_lexer": "ipython3",
   "version": "3.12.1"
  }
 },
 "nbformat": 4,
 "nbformat_minor": 2
}
